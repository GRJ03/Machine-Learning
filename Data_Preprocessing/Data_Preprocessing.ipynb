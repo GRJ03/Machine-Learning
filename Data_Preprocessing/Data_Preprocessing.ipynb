{
  "nbformat": 4,
  "nbformat_minor": 0,
  "metadata": {
    "colab": {
      "provenance": []
    },
    "kernelspec": {
      "name": "python3",
      "display_name": "Python 3"
    },
    "language_info": {
      "name": "python"
    }
  },
  "cells": [
    {
      "cell_type": "markdown",
      "source": [
        "[![Open In Colab](https://colab.research.google.com/assets/colab-badge.svg)](https://colab.research.google.com/github/alok8663/Machine-Learning/blob/main/Data_Preprocessing/Data_Preprocessing.ipynb)\n"
      ],
      "metadata": {
        "id": "HgMRZN_vb1SO"
      }
    },
    {
      "cell_type": "code",
      "execution_count": 25,
      "metadata": {
        "id": "tiFPSI5xCFiJ"
      },
      "outputs": [],
      "source": [
        "import numpy as np\n",
        "import matplotlib.pyplot as plt\n",
        "import pandas as pd"
      ]
    },
    {
      "cell_type": "code",
      "source": [
        "data=pd.read_csv('Data.csv')"
      ],
      "metadata": {
        "id": "8HnWlhDRCPoG"
      },
      "execution_count": 26,
      "outputs": []
    },
    {
      "cell_type": "code",
      "source": [
        "X=data.iloc[:,:-1].values\n",
        "y=data.iloc[:,-1].values"
      ],
      "metadata": {
        "id": "Gp9gb8a9CWEd"
      },
      "execution_count": 27,
      "outputs": []
    },
    {
      "cell_type": "code",
      "source": [
        "print(X)\n",
        "print(y)"
      ],
      "metadata": {
        "colab": {
          "base_uri": "https://localhost:8080/"
        },
        "id": "AFZIHr6NC7Am",
        "outputId": "7f8fcb84-b941-49f9-8544-72bd2b6273c1"
      },
      "execution_count": 28,
      "outputs": [
        {
          "output_type": "stream",
          "name": "stdout",
          "text": [
            "[['France' 44.0 72000.0]\n",
            " ['Spain' 27.0 48000.0]\n",
            " ['Germany' 30.0 54000.0]\n",
            " ['Spain' 38.0 61000.0]\n",
            " ['Germany' 40.0 nan]\n",
            " ['France' 35.0 58000.0]\n",
            " ['Spain' nan 52000.0]\n",
            " ['France' 48.0 79000.0]\n",
            " ['Germany' 50.0 83000.0]\n",
            " ['France' 37.0 67000.0]]\n",
            "['No' 'Yes' 'No' 'No' 'Yes' 'Yes' 'No' 'Yes' 'No' 'Yes']\n"
          ]
        }
      ]
    },
    {
      "cell_type": "code",
      "source": [
        "print(data.isnull().sum())"
      ],
      "metadata": {
        "colab": {
          "base_uri": "https://localhost:8080/"
        },
        "id": "_rlwD10iDK5k",
        "outputId": "8676b446-3d54-495f-9374-f001c729c518"
      },
      "execution_count": 29,
      "outputs": [
        {
          "output_type": "stream",
          "name": "stdout",
          "text": [
            "Country      0\n",
            "Age          1\n",
            "Salary       1\n",
            "Purchased    0\n",
            "dtype: int64\n"
          ]
        }
      ]
    },
    {
      "cell_type": "code",
      "source": [
        "#use sk learn to fill missing values\n",
        "from sklearn.impute import SimpleImputer\n",
        "imputer=SimpleImputer(missing_values=np.nan, strategy=\"mean\")\n",
        "imputer.fit_transform(X[:,1:3])\n",
        "# X[:,1:3]=imputer.transform(X[:,1:3])\n",
        "\n"
      ],
      "metadata": {
        "colab": {
          "base_uri": "https://localhost:8080/"
        },
        "id": "j4PCbiGyDXfs",
        "outputId": "78924eba-1ccb-4368-94d6-066effd7b32b"
      },
      "execution_count": 30,
      "outputs": [
        {
          "output_type": "execute_result",
          "data": {
            "text/plain": [
              "array([[4.40000000e+01, 7.20000000e+04],\n",
              "       [2.70000000e+01, 4.80000000e+04],\n",
              "       [3.00000000e+01, 5.40000000e+04],\n",
              "       [3.80000000e+01, 6.10000000e+04],\n",
              "       [4.00000000e+01, 6.37777778e+04],\n",
              "       [3.50000000e+01, 5.80000000e+04],\n",
              "       [3.87777778e+01, 5.20000000e+04],\n",
              "       [4.80000000e+01, 7.90000000e+04],\n",
              "       [5.00000000e+01, 8.30000000e+04],\n",
              "       [3.70000000e+01, 6.70000000e+04]])"
            ]
          },
          "metadata": {},
          "execution_count": 30
        }
      ]
    },
    {
      "cell_type": "code",
      "source": [
        "print(X)"
      ],
      "metadata": {
        "colab": {
          "base_uri": "https://localhost:8080/"
        },
        "id": "oUz_PkKhEgxH",
        "outputId": "08b5a187-da75-4b24-ead2-17777557f0d0"
      },
      "execution_count": 31,
      "outputs": [
        {
          "output_type": "stream",
          "name": "stdout",
          "text": [
            "[['France' 44.0 72000.0]\n",
            " ['Spain' 27.0 48000.0]\n",
            " ['Germany' 30.0 54000.0]\n",
            " ['Spain' 38.0 61000.0]\n",
            " ['Germany' 40.0 nan]\n",
            " ['France' 35.0 58000.0]\n",
            " ['Spain' nan 52000.0]\n",
            " ['France' 48.0 79000.0]\n",
            " ['Germany' 50.0 83000.0]\n",
            " ['France' 37.0 67000.0]]\n"
          ]
        }
      ]
    },
    {
      "cell_type": "code",
      "source": [
        "#we need to convert categorical columns into  numerical columns\n",
        "# if more than 2 values, use column transformer, if 2 values use label encoding\n",
        "from sklearn.compose import ColumnTransformer\n",
        "from sklearn.preprocessing import OneHotEncoder\n",
        "col=ColumnTransformer(transformers=[('encoder',OneHotEncoder(),[0])],remainder='passthrough')\n",
        "ft=col.fit_transform(X)\n",
        "X=np.array(ft)"
      ],
      "metadata": {
        "id": "P4056a3WFXpL"
      },
      "execution_count": 32,
      "outputs": []
    },
    {
      "cell_type": "code",
      "source": [
        "print(X)"
      ],
      "metadata": {
        "colab": {
          "base_uri": "https://localhost:8080/"
        },
        "id": "v-EOnMeqHHum",
        "outputId": "5f9c9afe-9e14-457b-8887-d35c08cb811f"
      },
      "execution_count": 33,
      "outputs": [
        {
          "output_type": "stream",
          "name": "stdout",
          "text": [
            "[[1.0 0.0 0.0 44.0 72000.0]\n",
            " [0.0 0.0 1.0 27.0 48000.0]\n",
            " [0.0 1.0 0.0 30.0 54000.0]\n",
            " [0.0 0.0 1.0 38.0 61000.0]\n",
            " [0.0 1.0 0.0 40.0 nan]\n",
            " [1.0 0.0 0.0 35.0 58000.0]\n",
            " [0.0 0.0 1.0 nan 52000.0]\n",
            " [1.0 0.0 0.0 48.0 79000.0]\n",
            " [0.0 1.0 0.0 50.0 83000.0]\n",
            " [1.0 0.0 0.0 37.0 67000.0]]\n"
          ]
        }
      ]
    },
    {
      "cell_type": "code",
      "source": [
        "from sklearn.preprocessing import LabelEncoder\n",
        "label=LabelEncoder()\n",
        "y=label.fit_transform(y)"
      ],
      "metadata": {
        "id": "AZKJFuVjHNO_"
      },
      "execution_count": 34,
      "outputs": []
    },
    {
      "cell_type": "code",
      "source": [
        "print(y)"
      ],
      "metadata": {
        "colab": {
          "base_uri": "https://localhost:8080/"
        },
        "id": "Ox48ZkstHeEM",
        "outputId": "d82ecca7-9d46-41f3-8e85-9e7fc1de5bb8"
      },
      "execution_count": 35,
      "outputs": [
        {
          "output_type": "stream",
          "name": "stdout",
          "text": [
            "[0 1 0 0 1 1 0 1 0 1]\n"
          ]
        }
      ]
    },
    {
      "cell_type": "code",
      "source": [
        "#now split data into two parts, i.e. 80% train, 20% testing\n",
        "from sklearn.model_selection import train_test_split\n",
        "X_train,X_test,y_train,y_test=train_test_split(X,y,test_size=0.2,random_state=0)"
      ],
      "metadata": {
        "id": "am6gpGYXIDqe"
      },
      "execution_count": 36,
      "outputs": []
    },
    {
      "cell_type": "markdown",
      "source": [],
      "metadata": {
        "id": "-Dk69wT-Imqy"
      }
    },
    {
      "cell_type": "code",
      "source": [
        "# standardisation baaad me krte h to avoid data leakage(taaki training aur test alag a;ag rhe, test set training se influence na ho, aur unseen test set pe kaam kr paye hmara model)\n",
        "#scale data, so that all values lie in about same range, two types- 1.standardisation and normalisation\n",
        "#after standardisation all values range-(-3,3),use mean and sd and normalisation se (0,1),use max min\n",
        "from sklearn.preprocessing import StandardScaler\n",
        "sc=StandardScaler()\n",
        "X_train=sc.fit_transform(X_train)\n",
        "# not fit here because mean and sd same rhe dono train aur test k liye\n",
        "X_test=sc.transform(X_test)\n",
        "\n",
        "\n"
      ],
      "metadata": {
        "id": "EXFq8nsyIuaB"
      },
      "execution_count": 37,
      "outputs": []
    },
    {
      "cell_type": "code",
      "source": [
        "print(X_train)\n",
        "print(X_test)"
      ],
      "metadata": {
        "colab": {
          "base_uri": "https://localhost:8080/"
        },
        "id": "TlbjgdO_Kpga",
        "outputId": "41140002-32a2-42c6-f74a-0f90b849b8e6"
      },
      "execution_count": 38,
      "outputs": [
        {
          "output_type": "stream",
          "name": "stdout",
          "text": [
            "[[-1.          2.64575131 -0.77459667  0.25315802         nan]\n",
            " [ 1.         -0.37796447 -0.77459667 -0.23014365  0.44897083]\n",
            " [-1.         -0.37796447  1.29099445 -1.84114924 -1.41706417]\n",
            " [-1.         -0.37796447  1.29099445         nan -1.0242147 ]\n",
            " [ 1.         -0.37796447 -0.77459667  1.54196248  1.62751925]\n",
            " [-1.         -0.37796447  1.29099445 -0.0690431  -0.14030338]\n",
            " [ 1.         -0.37796447 -0.77459667  0.89756025  0.94003267]\n",
            " [ 1.         -0.37796447 -0.77459667 -0.55234477 -0.43494049]]\n",
            "[[-1.          2.64575131 -0.77459667 -1.35784756 -0.82778996]\n",
            " [-1.          2.64575131 -0.77459667  1.8641636   2.02036872]]\n"
          ]
        }
      ]
    }
  ]
}